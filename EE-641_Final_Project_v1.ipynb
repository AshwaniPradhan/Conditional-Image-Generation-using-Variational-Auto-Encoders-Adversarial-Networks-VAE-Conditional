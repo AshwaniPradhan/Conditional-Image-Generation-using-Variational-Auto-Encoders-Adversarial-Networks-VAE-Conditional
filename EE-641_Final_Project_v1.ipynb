{
 "cells": [
  {
   "cell_type": "markdown",
   "metadata": {},
   "source": [
    "### Conditional image generation using Variational Auto Encoders-Conditional GANs"
   ]
  },
  {
   "cell_type": "markdown",
   "metadata": {},
   "source": [
    "#### Importing the required libraries"
   ]
  },
  {
   "cell_type": "code",
   "execution_count": 1,
   "metadata": {},
   "outputs": [],
   "source": [
    "import numpy as np\n",
    "import matplotlib.pyplot as plt\n",
    "import pandas as pd"
   ]
  },
  {
   "cell_type": "code",
   "execution_count": 1,
   "metadata": {},
   "outputs": [],
   "source": [
    "import torch\n",
    "import torch.nn as nn\n",
    "import torch.nn.functional as F"
   ]
  },
  {
   "cell_type": "markdown",
   "metadata": {},
   "source": [
    "#### Data -> Later"
   ]
  },
  {
   "cell_type": "markdown",
   "metadata": {},
   "source": [
    "#### Coding up the Variational Auto Encoder (VAE)"
   ]
  },
  {
   "cell_type": "code",
   "execution_count": null,
   "metadata": {},
   "outputs": [],
   "source": [
    "\n",
    "class variational_auto_encoder(nn.Module):\n",
    "    def __init__(self, input_channels,hidden_vec_size,input_len, input_width):\n",
    "        \"\"\"\n",
    "        input_channels = number of channels in input image\n",
    "        input_size = L * W = input_len * input_width\n",
    "        hidden_vec_size=latent vector dimension\n",
    "\n",
    "        \"\"\"\n",
    "        super(variational_auto_encoder,self).__init__()\n",
    "\n",
    "        input_size=input_len * input_width\n",
    "\n",
    "        # Encoder Block\n",
    "\n",
    "        self.encoder=nn.Sequential(\n",
    "            # input_channels = input_channels + 1 -> RGB +label encoding (originially)\n",
    "            nn.Conv2d(input_channels,32,stride=1,kernel_size=3,padding=1),\n",
    "            nn.LeakyReLU(0.01),\n",
    "            nn.Conv2d(32,64,stride=2,kernel_size=3,padding=1),\n",
    "            nn.LeakyReLU(0.01),\n",
    "            nn.Conv2d(64,128,stride=2,kernel_size=3,padding=1),\n",
    "            nn.LeakyReLU(0.01),\n",
    "            nn.Conv2d(128,128,stride=1,kernel_size=3,padding=1),\n",
    "            nn.Flatten(), \n",
    "        )\n",
    "\n",
    "        # Latent vector \n",
    "\n",
    "        self.z_mean= torch.nn.Linear((input_size//4)*128,hidden_vec_size)\n",
    "        self.z_log_var = torch.nn.Linear((input_size//4)*128,hidden_vec_size)\n",
    "\n",
    "       \n",
    "        # Decoder Block\n",
    "\n",
    "        self.decoder=nn.Sequential(\n",
    "            torch.nn.Linear(hidden_vec_size,(input_size//4)*128 ),\n",
    "            Reshape.reshape(-1,128,(input_size//4),(input_size//4)),\n",
    "            nn.ConvTranspose2d(128, 128, stride=1, kernel_size=3, padding=1),\n",
    "            nn.LeakyReLU(0.01),\n",
    "            nn.ConvTranspose2d(128, 64, stride=2, kernel_size=3, padding=1),                \n",
    "            nn.LeakyReLU(0.01),\n",
    "            nn.ConvTranspose2d(64, 32, stride=2, kernel_size=3, padding=0),                \n",
    "            nn.LeakyReLU(0.01),\n",
    "            nn.ConvTranspose2d(32, 1, stride=1, kernel_size=3, padding=0), \n",
    "            Convert.convert(input_len, input_width), \n",
    "            nn.Sigmoid()\n",
    "        )"
   ]
  },
  {
   "cell_type": "code",
   "execution_count": null,
   "metadata": {},
   "outputs": [],
   "source": [
    " # Class to reshape the vector into L*W*C type\n",
    "\n",
    "class Reshape(nn.Module):\n",
    "    def __init__(self,*args):\n",
    "        super().__init__()\n",
    "        self.shape=args\n",
    "\n",
    "    def reshape(self, x):\n",
    "        return x.view(self.shape)\n",
    "\n",
    " # Class to convert the image dimension back to original dimension\n",
    "\n",
    "class Convert(nn.Module):\n",
    "    def __init__(self):\n",
    "        super().__init__()\n",
    "    \n",
    "    def convert(self, x, input_len, input_width):\n",
    "        # Converts x to original image dimension\n",
    "        return x[:,:,:input_len, :input_width]"
   ]
  }
 ],
 "metadata": {
  "interpreter": {
   "hash": "826595d4bd752bafb839317d33dfb0249df8f201d28e873c4cdae8c57e78dfe7"
  },
  "kernelspec": {
   "display_name": "Python 3.8.8 ('base')",
   "language": "python",
   "name": "python3"
  },
  "language_info": {
   "codemirror_mode": {
    "name": "ipython",
    "version": 3
   },
   "file_extension": ".py",
   "mimetype": "text/x-python",
   "name": "python",
   "nbconvert_exporter": "python",
   "pygments_lexer": "ipython3",
   "version": "3.8.8"
  },
  "orig_nbformat": 4
 },
 "nbformat": 4,
 "nbformat_minor": 2
}
